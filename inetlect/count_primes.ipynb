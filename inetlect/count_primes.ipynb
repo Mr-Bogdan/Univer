{
 "cells": [
  {
   "cell_type": "code",
   "execution_count": null,
   "id": "905edaaa-ba11-4900-86e7-c7e18d524561",
   "metadata": {},
   "outputs": [],
   "source": [
    "def count_primes(start, end):\n",
    "    count = 0\n",
    "    primes = []\n",
    "    out = []\n",
    "    for i in range(2, end + 1):\n",
    "        for j in primes:\n",
    "            if i % j == 0:\n",
    "                break\n",
    "        else:\n",
    "            primes.append(i)\n",
    "            if i >= start:\n",
    "                out.append(i)\n",
    "                count += 1\n",
    "    return \"List of numbers:\", out, \"Count:\", count\n",
    "\n",
    "count_primes(12, \"sdasd\")"
   ]
  },
  {
   "cell_type": "code",
   "execution_count": null,
   "id": "f356c7f2-d407-44c7-9bab-3ee63affab66",
   "metadata": {},
   "outputs": [],
   "source": []
  },
  {
   "cell_type": "code",
   "execution_count": null,
   "id": "b1305f8f-eb2c-4049-b329-3f1f07282e54",
   "metadata": {},
   "outputs": [],
   "source": []
  }
 ],
 "metadata": {
  "kernelspec": {
   "display_name": "Python 3 (ipykernel)",
   "language": "python",
   "name": "python3"
  },
  "language_info": {
   "codemirror_mode": {
    "name": "ipython",
    "version": 3
   },
   "file_extension": ".py",
   "mimetype": "text/x-python",
   "name": "python",
   "nbconvert_exporter": "python",
   "pygments_lexer": "ipython3",
   "version": "3.10.7"
  }
 },
 "nbformat": 4,
 "nbformat_minor": 5
}
